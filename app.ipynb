{
  "cells": [
    {
      "cell_type": "code",
      "execution_count": 1,
      "metadata": {
        "id": "bSYVTSy1jDls",
        "outputId": "42f0a3ec-9ef3-4152-9c94-be8859fca579",
        "colab": {
          "base_uri": "https://localhost:8080/",
          "height": 1000
        }
      },
      "outputs": [
        {
          "output_type": "stream",
          "name": "stdout",
          "text": [
            "Collecting vanna\n",
            "  Downloading vanna-0.7.6-py3-none-any.whl.metadata (15 kB)\n",
            "Requirement already satisfied: requests in /usr/local/lib/python3.11/dist-packages (from vanna) (2.32.3)\n",
            "Requirement already satisfied: tabulate in /usr/local/lib/python3.11/dist-packages (from vanna) (0.9.0)\n",
            "Requirement already satisfied: plotly in /usr/local/lib/python3.11/dist-packages (from vanna) (5.24.1)\n",
            "Requirement already satisfied: pandas in /usr/local/lib/python3.11/dist-packages (from vanna) (2.2.2)\n",
            "Requirement already satisfied: sqlparse in /usr/local/lib/python3.11/dist-packages (from vanna) (0.5.3)\n",
            "Collecting kaleido (from vanna)\n",
            "  Downloading kaleido-0.2.1-py2.py3-none-manylinux1_x86_64.whl.metadata (15 kB)\n",
            "Requirement already satisfied: flask in /usr/local/lib/python3.11/dist-packages (from vanna) (3.1.0)\n",
            "Collecting flask-sock (from vanna)\n",
            "  Downloading flask_sock-0.7.0-py3-none-any.whl.metadata (1.6 kB)\n",
            "Collecting flasgger (from vanna)\n",
            "  Downloading flasgger-0.9.7.1.tar.gz (4.0 MB)\n",
            "\u001b[2K     \u001b[90m━━━━━━━━━━━━━━━━━━━━━━━━━━━━━━━━━━━━━━━━\u001b[0m \u001b[32m4.0/4.0 MB\u001b[0m \u001b[31m25.8 MB/s\u001b[0m eta \u001b[36m0:00:00\u001b[0m\n",
            "\u001b[?25h  Preparing metadata (setup.py) ... \u001b[?25l\u001b[?25hdone\n",
            "Requirement already satisfied: sqlalchemy in /usr/local/lib/python3.11/dist-packages (from vanna) (2.0.38)\n",
            "Requirement already satisfied: PyYAML>=3.0 in /usr/local/lib/python3.11/dist-packages (from flasgger->vanna) (6.0.2)\n",
            "Requirement already satisfied: jsonschema>=3.0.1 in /usr/local/lib/python3.11/dist-packages (from flasgger->vanna) (4.23.0)\n",
            "Requirement already satisfied: mistune in /usr/local/lib/python3.11/dist-packages (from flasgger->vanna) (3.1.1)\n",
            "Requirement already satisfied: six>=1.10.0 in /usr/local/lib/python3.11/dist-packages (from flasgger->vanna) (1.17.0)\n",
            "Requirement already satisfied: packaging in /usr/local/lib/python3.11/dist-packages (from flasgger->vanna) (24.2)\n",
            "Requirement already satisfied: Werkzeug>=3.1 in /usr/local/lib/python3.11/dist-packages (from flask->vanna) (3.1.3)\n",
            "Requirement already satisfied: Jinja2>=3.1.2 in /usr/local/lib/python3.11/dist-packages (from flask->vanna) (3.1.5)\n",
            "Requirement already satisfied: itsdangerous>=2.2 in /usr/local/lib/python3.11/dist-packages (from flask->vanna) (2.2.0)\n",
            "Requirement already satisfied: click>=8.1.3 in /usr/local/lib/python3.11/dist-packages (from flask->vanna) (8.1.8)\n",
            "Requirement already satisfied: blinker>=1.9 in /usr/local/lib/python3.11/dist-packages (from flask->vanna) (1.9.0)\n",
            "Collecting simple-websocket>=0.5.1 (from flask-sock->vanna)\n",
            "  Downloading simple_websocket-1.1.0-py3-none-any.whl.metadata (1.5 kB)\n",
            "Requirement already satisfied: numpy>=1.23.2 in /usr/local/lib/python3.11/dist-packages (from pandas->vanna) (1.26.4)\n",
            "Requirement already satisfied: python-dateutil>=2.8.2 in /usr/local/lib/python3.11/dist-packages (from pandas->vanna) (2.8.2)\n",
            "Requirement already satisfied: pytz>=2020.1 in /usr/local/lib/python3.11/dist-packages (from pandas->vanna) (2025.1)\n",
            "Requirement already satisfied: tzdata>=2022.7 in /usr/local/lib/python3.11/dist-packages (from pandas->vanna) (2025.1)\n",
            "Requirement already satisfied: tenacity>=6.2.0 in /usr/local/lib/python3.11/dist-packages (from plotly->vanna) (9.0.0)\n",
            "Requirement already satisfied: charset-normalizer<4,>=2 in /usr/local/lib/python3.11/dist-packages (from requests->vanna) (3.4.1)\n",
            "Requirement already satisfied: idna<4,>=2.5 in /usr/local/lib/python3.11/dist-packages (from requests->vanna) (3.10)\n",
            "Requirement already satisfied: urllib3<3,>=1.21.1 in /usr/local/lib/python3.11/dist-packages (from requests->vanna) (2.3.0)\n",
            "Requirement already satisfied: certifi>=2017.4.17 in /usr/local/lib/python3.11/dist-packages (from requests->vanna) (2025.1.31)\n",
            "Requirement already satisfied: greenlet!=0.4.17 in /usr/local/lib/python3.11/dist-packages (from sqlalchemy->vanna) (3.1.1)\n",
            "Requirement already satisfied: typing-extensions>=4.6.0 in /usr/local/lib/python3.11/dist-packages (from sqlalchemy->vanna) (4.12.2)\n",
            "Requirement already satisfied: MarkupSafe>=2.0 in /usr/local/lib/python3.11/dist-packages (from Jinja2>=3.1.2->flask->vanna) (3.0.2)\n",
            "Requirement already satisfied: attrs>=22.2.0 in /usr/local/lib/python3.11/dist-packages (from jsonschema>=3.0.1->flasgger->vanna) (25.1.0)\n",
            "Requirement already satisfied: jsonschema-specifications>=2023.03.6 in /usr/local/lib/python3.11/dist-packages (from jsonschema>=3.0.1->flasgger->vanna) (2024.10.1)\n",
            "Requirement already satisfied: referencing>=0.28.4 in /usr/local/lib/python3.11/dist-packages (from jsonschema>=3.0.1->flasgger->vanna) (0.36.2)\n",
            "Requirement already satisfied: rpds-py>=0.7.1 in /usr/local/lib/python3.11/dist-packages (from jsonschema>=3.0.1->flasgger->vanna) (0.22.3)\n",
            "Collecting wsproto (from simple-websocket>=0.5.1->flask-sock->vanna)\n",
            "  Downloading wsproto-1.2.0-py3-none-any.whl.metadata (5.6 kB)\n",
            "Requirement already satisfied: h11<1,>=0.9.0 in /usr/local/lib/python3.11/dist-packages (from wsproto->simple-websocket>=0.5.1->flask-sock->vanna) (0.14.0)\n",
            "Downloading vanna-0.7.6-py3-none-any.whl (209 kB)\n",
            "\u001b[2K   \u001b[90m━━━━━━━━━━━━━━━━━━━━━━━━━━━━━━━━━━━━━━━━\u001b[0m \u001b[32m209.7/209.7 kB\u001b[0m \u001b[31m11.2 MB/s\u001b[0m eta \u001b[36m0:00:00\u001b[0m\n",
            "\u001b[?25hDownloading flask_sock-0.7.0-py3-none-any.whl (4.0 kB)\n",
            "Downloading kaleido-0.2.1-py2.py3-none-manylinux1_x86_64.whl (79.9 MB)\n",
            "\u001b[2K   \u001b[90m━━━━━━━━━━━━━━━━━━━━━━━━━━━━━━━━━━━━━━━━\u001b[0m \u001b[32m79.9/79.9 MB\u001b[0m \u001b[31m8.9 MB/s\u001b[0m eta \u001b[36m0:00:00\u001b[0m\n",
            "\u001b[?25hDownloading simple_websocket-1.1.0-py3-none-any.whl (13 kB)\n",
            "Downloading wsproto-1.2.0-py3-none-any.whl (24 kB)\n",
            "Building wheels for collected packages: flasgger\n",
            "  Building wheel for flasgger (setup.py) ... \u001b[?25l\u001b[?25hdone\n",
            "  Created wheel for flasgger: filename=flasgger-0.9.7.1-py2.py3-none-any.whl size=3865184 sha256=3c3e5f2ee6a9c29f92a978f50f76ac676d468e835533fa216664047e9f5bd481\n",
            "  Stored in directory: /root/.cache/pip/wheels/da/2d/f6/c125d4b8701ac49fdb2abbfb978036c46d5ad64d2ffaa2ac34\n",
            "Successfully built flasgger\n",
            "Installing collected packages: kaleido, wsproto, simple-websocket, flask-sock, flasgger, vanna\n",
            "Successfully installed flasgger-0.9.7.1 flask-sock-0.7.0 kaleido-0.2.1 simple-websocket-1.1.0 vanna-0.7.6 wsproto-1.2.0\n"
          ]
        },
        {
          "output_type": "error",
          "ename": "ValidationError",
          "evalue": "Please replace 'my-email@example.com' with your email address.",
          "traceback": [
            "\u001b[0;31m---------------------------------------------------------------------------\u001b[0m",
            "\u001b[0;31mValidationError\u001b[0m                           Traceback (most recent call last)",
            "\u001b[0;32m<ipython-input-1-5e6fa6df412b>\u001b[0m in \u001b[0;36m<cell line: 0>\u001b[0;34m()\u001b[0m\n\u001b[1;32m      2\u001b[0m \u001b[0;32mimport\u001b[0m \u001b[0mvanna\u001b[0m\u001b[0;34m\u001b[0m\u001b[0;34m\u001b[0m\u001b[0m\n\u001b[1;32m      3\u001b[0m \u001b[0;32mfrom\u001b[0m \u001b[0mvanna\u001b[0m\u001b[0;34m.\u001b[0m\u001b[0mremote\u001b[0m \u001b[0;32mimport\u001b[0m \u001b[0mVannaDefault\u001b[0m\u001b[0;34m\u001b[0m\u001b[0;34m\u001b[0m\u001b[0m\n\u001b[0;32m----> 4\u001b[0;31m \u001b[0mvn\u001b[0m \u001b[0;34m=\u001b[0m \u001b[0mVannaDefault\u001b[0m\u001b[0;34m(\u001b[0m\u001b[0mmodel\u001b[0m\u001b[0;34m=\u001b[0m\u001b[0;34m'chinook'\u001b[0m\u001b[0;34m,\u001b[0m \u001b[0mapi_key\u001b[0m\u001b[0;34m=\u001b[0m\u001b[0mvanna\u001b[0m\u001b[0;34m.\u001b[0m\u001b[0mget_api_key\u001b[0m\u001b[0;34m(\u001b[0m\u001b[0;34m'my-email@example.com'\u001b[0m\u001b[0;34m)\u001b[0m\u001b[0;34m)\u001b[0m\u001b[0;34m\u001b[0m\u001b[0;34m\u001b[0m\u001b[0m\n\u001b[0m\u001b[1;32m      5\u001b[0m \u001b[0mvn\u001b[0m\u001b[0;34m.\u001b[0m\u001b[0mconnect_to_sqlite\u001b[0m\u001b[0;34m(\u001b[0m\u001b[0;34m'https://vanna.ai/Chinook.sqlite'\u001b[0m\u001b[0;34m)\u001b[0m\u001b[0;34m\u001b[0m\u001b[0;34m\u001b[0m\u001b[0m\n\u001b[1;32m      6\u001b[0m \u001b[0mvn\u001b[0m\u001b[0;34m.\u001b[0m\u001b[0mask\u001b[0m\u001b[0;34m(\u001b[0m\u001b[0;34m\"What are the top 10 albums by sales?\"\u001b[0m\u001b[0;34m)\u001b[0m\u001b[0;34m\u001b[0m\u001b[0;34m\u001b[0m\u001b[0m\n",
            "\u001b[0;32m/usr/local/lib/python3.11/dist-packages/vanna/__init__.py\u001b[0m in \u001b[0;36mget_api_key\u001b[0;34m(email, otp_code)\u001b[0m\n\u001b[1;32m     95\u001b[0m \u001b[0;34m\u001b[0m\u001b[0m\n\u001b[1;32m     96\u001b[0m     \u001b[0;32mif\u001b[0m \u001b[0memail\u001b[0m \u001b[0;34m==\u001b[0m \u001b[0;34m\"my-email@example.com\"\u001b[0m\u001b[0;34m:\u001b[0m\u001b[0;34m\u001b[0m\u001b[0;34m\u001b[0m\u001b[0m\n\u001b[0;32m---> 97\u001b[0;31m         raise ValidationError(\n\u001b[0m\u001b[1;32m     98\u001b[0m             \u001b[0;34m\"Please replace 'my-email@example.com' with your email address.\"\u001b[0m\u001b[0;34m\u001b[0m\u001b[0;34m\u001b[0m\u001b[0m\n\u001b[1;32m     99\u001b[0m         )\n",
            "\u001b[0;31mValidationError\u001b[0m: Please replace 'my-email@example.com' with your email address."
          ]
        }
      ],
      "source": [
        "!pip install vanna\n",
        "import vanna\n",
        "from vanna.remote import VannaDefault\n",
        "vn = VannaDefault(model='chinook', api_key=vanna.get_api_key('me@example.com'))\n",
        "vn.connect_to_sqlite('https://vanna.ai/Chinook.sqlite')\n",
        "vn.ask(\"What are the top 10 albums by sales?\")"
      ]
    },
    {
      "cell_type": "code",
      "execution_count": null,
      "metadata": {
        "id": "4BTuLTkMjDlu"
      },
      "outputs": [],
      "source": [
        "from vanna.flask import VannaFlaskApp\n",
        "VannaFlaskApp(vn).run()"
      ]
    },
    {
      "cell_type": "markdown",
      "metadata": {
        "id": "NoVdZ2YIjDlu"
      },
      "source": [
        "## Here's what you'll get\n",
        "![vanna-flask](https://vanna.ai/blog/img/vanna-flask.gif)"
      ]
    },
    {
      "cell_type": "markdown",
      "metadata": {
        "id": "vhqpVBRljDlv"
      },
      "source": []
    }
  ],
  "metadata": {
    "language_info": {
      "name": "python"
    },
    "colab": {
      "provenance": []
    },
    "kernelspec": {
      "name": "python3",
      "display_name": "Python 3"
    }
  },
  "nbformat": 4,
  "nbformat_minor": 0
}